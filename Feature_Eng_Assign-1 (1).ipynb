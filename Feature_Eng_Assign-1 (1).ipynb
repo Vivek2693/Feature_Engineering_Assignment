{
 "cells": [
  {
   "cell_type": "markdown",
   "id": "1d3674af-772d-4de3-961e-95cc41331c11",
   "metadata": {},
   "source": [
    "### Q1: What are missing values in a dataset? Why is it essential to handle missing values? Name some algorithms that are not affected by missing values."
   ]
  },
  {
   "cell_type": "markdown",
   "id": "58aa3284-ca79-49bf-8b5c-657cc54ab268",
   "metadata": {},
   "source": [
    "###` Missing values are values that are not present in a dataset. They can occur for a variety of reasons, such as incomplete data entry, equipment malfunctions, or lost files. Missing values can have a significant impact on the analysis of a dataset, and it is important to handle them appropriately.\n",
    "\n",
    " - There are a number of reasons why it is essential to handle missing values. First, missing values can bias the results of an analysis. For example, if a particular variable has a high percentage of missing values, then the results of an analysis that includes that variable may be biased towards the values that are present. Second, missing values can reduce the power of an analysis.\n",
    "\n",
    " - This is because the analysis will have less data to work with, and this can lead to less accurate results. Third, missing values can make it difficult to interpret the results of an analysis. This is because it can be difficult to tell whether the missing values are due to random chance or whether they are due to some underlying pattern.\n",
    "\n",
    "`There are a number of different ways to handle missing values. The best approach will depend on the specific  dataset and the analysis that is being performed. Some common approaches include:\n",
    "\n",
    "- Deletion: This approach involves deleting the rows or columns that contain missing values. This can be a good approach if the percentage of missing values is small. However, it can also lead to a loss of data, which can reduce the power of the analysis.\n",
    "\n",
    "- Imputation: This approach involves replacing the missing values with estimated values. There are a number of different imputation methods available, and the best approach will depend on the specific dataset. Imputation can be a good approach if the percentage of missing values is moderate. However, it is important to note that imputation can introduce bias into the analysis.\n",
    "\n",
    "- Modeling: This approach involves modeling the missing values as a variable in the analysis. This can be a good approach if the percentage of missing values is high. However, it can be complex and time-consuming.\n",
    "\n",
    "`Some algorithms that are not affected by missing values include:\n",
    "\n",
    "- Decision trees: Decision trees are a type of machine learning algorithm that can be used for classification or regression tasks. Decision trees are not affected by missing values because they do not rely on all of the variables in a dataset to make predictions.\n",
    "\n",
    "- Random forests: Random forests are a type of ensemble learning algorithm that can be used for classification or regression tasks. Random forests are not affected by missing values because they use multiple decision trees to make predictions.\n",
    "\n",
    "- Support vector machines: Support vector machines are a type of machine learning algorithm that can be used for classification or regression tasks. Support vector machines are not affected by missing values because they only use the most important variables in a dataset to make predictions.\n",
    "\n"
   ]
  },
  {
   "cell_type": "markdown",
   "id": "99b01143-b8f8-4e05-bb49-e39e6842e1c2",
   "metadata": {},
   "source": [
    "### Q2: List down techniques used to handle missing data. Give an example of each with python code."
   ]
  },
  {
   "cell_type": "markdown",
   "id": "a1fbc333-5295-4500-b8b1-469fd1332d2f",
   "metadata": {},
   "source": [
    "-We can use either Deletion or Imputation techniques to handle the missing values, however \n",
    "Modeling is another way to handle the missing values but it is time taking."
   ]
  },
  {
   "cell_type": "code",
   "execution_count": 1,
   "id": "13bc2cdb-ca15-42ef-9ebf-27dedbed4707",
   "metadata": {},
   "outputs": [
    {
     "name": "stdout",
     "output_type": "stream",
     "text": [
      "     A  B\n",
      "0  1.0  4\n",
      "1  2.0  5\n",
      "2  3.0  6\n",
      "3  2.0  7\n"
     ]
    }
   ],
   "source": [
    "#Deletion\n",
    "\n",
    "import pandas as pd\n",
    "import numpy as np\n",
    "\n",
    "df = pd.DataFrame({'A':[1,2,3,np.nan], 'B':[4,5,6,7]})\n",
    "\n",
    "df['A'] = df['A'].fillna(df['A'].mean())\n",
    "\n",
    "print(df)\n"
   ]
  },
  {
   "cell_type": "code",
   "execution_count": 3,
   "id": "52f78bc5-eac6-46c1-b189-8d190f818310",
   "metadata": {},
   "outputs": [],
   "source": [
    "import seaborn as sns\n",
    "\n",
    "df=sns.load_dataset('titanic')\n"
   ]
  },
  {
   "cell_type": "code",
   "execution_count": 4,
   "id": "71e511ad-f5b6-4782-b07f-5b416e5195f5",
   "metadata": {},
   "outputs": [],
   "source": [
    "df['Age_mean']=df['age'].fillna(df['age'].mean())"
   ]
  },
  {
   "cell_type": "code",
   "execution_count": 5,
   "id": "3fc1f226-8fe4-421b-8cd3-33e3190f0262",
   "metadata": {},
   "outputs": [
    {
     "data": {
      "text/html": [
       "<div>\n",
       "<style scoped>\n",
       "    .dataframe tbody tr th:only-of-type {\n",
       "        vertical-align: middle;\n",
       "    }\n",
       "\n",
       "    .dataframe tbody tr th {\n",
       "        vertical-align: top;\n",
       "    }\n",
       "\n",
       "    .dataframe thead th {\n",
       "        text-align: right;\n",
       "    }\n",
       "</style>\n",
       "<table border=\"1\" class=\"dataframe\">\n",
       "  <thead>\n",
       "    <tr style=\"text-align: right;\">\n",
       "      <th></th>\n",
       "      <th>Age_mean</th>\n",
       "      <th>age</th>\n",
       "    </tr>\n",
       "  </thead>\n",
       "  <tbody>\n",
       "    <tr>\n",
       "      <th>0</th>\n",
       "      <td>22.000000</td>\n",
       "      <td>22.0</td>\n",
       "    </tr>\n",
       "    <tr>\n",
       "      <th>1</th>\n",
       "      <td>38.000000</td>\n",
       "      <td>38.0</td>\n",
       "    </tr>\n",
       "    <tr>\n",
       "      <th>2</th>\n",
       "      <td>26.000000</td>\n",
       "      <td>26.0</td>\n",
       "    </tr>\n",
       "    <tr>\n",
       "      <th>3</th>\n",
       "      <td>35.000000</td>\n",
       "      <td>35.0</td>\n",
       "    </tr>\n",
       "    <tr>\n",
       "      <th>4</th>\n",
       "      <td>35.000000</td>\n",
       "      <td>35.0</td>\n",
       "    </tr>\n",
       "    <tr>\n",
       "      <th>...</th>\n",
       "      <td>...</td>\n",
       "      <td>...</td>\n",
       "    </tr>\n",
       "    <tr>\n",
       "      <th>886</th>\n",
       "      <td>27.000000</td>\n",
       "      <td>27.0</td>\n",
       "    </tr>\n",
       "    <tr>\n",
       "      <th>887</th>\n",
       "      <td>19.000000</td>\n",
       "      <td>19.0</td>\n",
       "    </tr>\n",
       "    <tr>\n",
       "      <th>888</th>\n",
       "      <td>29.699118</td>\n",
       "      <td>NaN</td>\n",
       "    </tr>\n",
       "    <tr>\n",
       "      <th>889</th>\n",
       "      <td>26.000000</td>\n",
       "      <td>26.0</td>\n",
       "    </tr>\n",
       "    <tr>\n",
       "      <th>890</th>\n",
       "      <td>32.000000</td>\n",
       "      <td>32.0</td>\n",
       "    </tr>\n",
       "  </tbody>\n",
       "</table>\n",
       "<p>891 rows × 2 columns</p>\n",
       "</div>"
      ],
      "text/plain": [
       "      Age_mean   age\n",
       "0    22.000000  22.0\n",
       "1    38.000000  38.0\n",
       "2    26.000000  26.0\n",
       "3    35.000000  35.0\n",
       "4    35.000000  35.0\n",
       "..         ...   ...\n",
       "886  27.000000  27.0\n",
       "887  19.000000  19.0\n",
       "888  29.699118   NaN\n",
       "889  26.000000  26.0\n",
       "890  32.000000  32.0\n",
       "\n",
       "[891 rows x 2 columns]"
      ]
     },
     "execution_count": 5,
     "metadata": {},
     "output_type": "execute_result"
    }
   ],
   "source": [
    "df[['Age_mean','age']]"
   ]
  },
  {
   "cell_type": "code",
   "execution_count": null,
   "id": "df63b862-1b71-42e4-9775-d0cc2d42306f",
   "metadata": {},
   "outputs": [],
   "source": [
    "#Similarly we can impute median and mod iputation for outliers and categorical values respectively."
   ]
  },
  {
   "cell_type": "code",
   "execution_count": null,
   "id": "f391befb-8cb9-4671-9ba8-0bdb74781796",
   "metadata": {},
   "outputs": [],
   "source": []
  },
  {
   "cell_type": "code",
   "execution_count": null,
   "id": "7d643da3-a6ff-434f-9dc1-29fd393a4893",
   "metadata": {},
   "outputs": [],
   "source": []
  },
  {
   "cell_type": "code",
   "execution_count": null,
   "id": "c35205f3-91b9-43d1-92f9-cf35114576a7",
   "metadata": {},
   "outputs": [],
   "source": []
  }
 ],
 "metadata": {
  "kernelspec": {
   "display_name": "Python 3 (ipykernel)",
   "language": "python",
   "name": "python3"
  },
  "language_info": {
   "codemirror_mode": {
    "name": "ipython",
    "version": 3
   },
   "file_extension": ".py",
   "mimetype": "text/x-python",
   "name": "python",
   "nbconvert_exporter": "python",
   "pygments_lexer": "ipython3",
   "version": "3.10.8"
  }
 },
 "nbformat": 4,
 "nbformat_minor": 5
}
